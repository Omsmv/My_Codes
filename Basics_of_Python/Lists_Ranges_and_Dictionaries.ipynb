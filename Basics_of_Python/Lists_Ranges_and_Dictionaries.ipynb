{
 "cells": [
  {
   "cell_type": "markdown",
   "metadata": {},
   "source": [
    "### Problem 1:\n",
    "\n",
    "Create a list and enter in the items `1`, `2`, `3`, `4`, `5`, `6` then reverse this list.\n",
    "\n",
    "- Use list slicing in your answer \n",
    "- Do not use any embedded functions in Python to reverse the list "
   ]
  },
  {
   "cell_type": "code",
   "execution_count": 44,
   "metadata": {
    "ExecuteTime": {
     "end_time": "2019-10-28T03:41:09.276538Z",
     "start_time": "2019-10-28T03:41:09.274279Z"
    }
   },
   "outputs": [
    {
     "data": {
      "text/plain": [
       "[6, 5, 4, 3, 2, 1]"
      ]
     },
     "execution_count": 44,
     "metadata": {},
     "output_type": "execute_result"
    }
   ],
   "source": [
    "my_list_2 = [1,2,3,4,5,6]\n",
    "my_list_2[-1:-7:-1]"
   ]
  },
  {
   "cell_type": "markdown",
   "metadata": {},
   "source": [
    "### Problem 2:\n",
    "\n",
    "Using the same list,  use slicing to pull out the subset `[2,4]` ... Print your result.\n",
    "\n",
    "- Use list slicing in your answer "
   ]
  },
  {
   "cell_type": "code",
   "execution_count": 46,
   "metadata": {
    "ExecuteTime": {
     "end_time": "2019-10-28T03:41:46.702687Z",
     "start_time": "2019-10-28T03:41:46.700388Z"
    }
   },
   "outputs": [
    {
     "name": "stdout",
     "output_type": "stream",
     "text": [
      "[2, 4]\n"
     ]
    }
   ],
   "source": [
    "print(my_list_2[1:4:2])\n"
   ]
  },
  {
   "cell_type": "markdown",
   "metadata": {},
   "source": [
    "### Problem 3:\n",
    "\n",
    "Create 2 lists: the first list with your first name and the second list with your last name. Combine the two lists to make a list that contains your entire name. "
   ]
  },
  {
   "cell_type": "code",
   "execution_count": 1,
   "metadata": {
    "ExecuteTime": {
     "end_time": "2019-10-28T03:42:20.710911Z",
     "start_time": "2019-10-28T03:42:20.708130Z"
    }
   },
   "outputs": [
    {
     "data": {
      "text/plain": [
       "(['Om Vaknalli'], ['Om', 'Vaknalli'])"
      ]
     },
     "execution_count": 1,
     "metadata": {},
     "output_type": "execute_result"
    }
   ],
   "source": [
    "first_name = [\"Om\"]\n",
    "last_name = [\"Vaknalli\"]\n",
    "full_name = [first_name[0] + \" \" + last_name[0]]\n",
    "full_name_1 = first_name + last_name\n",
    "full_name, full_name_1"
   ]
  },
  {
   "cell_type": "markdown",
   "metadata": {},
   "source": [
    "### Problem 4:\n",
    "\n",
    "Create 2 lists: the first list with your first name and the second list with your last name. Combine the two lists to make a list that contains your entire name. Add your middle name to this combined list between your first and last name. If you don't have a middle name add `[\"m\", \"i\", \"d\", \"d\", \"l\", \"e\"]`."
   ]
  },
  {
   "cell_type": "code",
   "execution_count": 86,
   "metadata": {
    "ExecuteTime": {
     "end_time": "2019-10-28T03:42:45.261050Z",
     "start_time": "2019-10-28T03:42:45.258774Z"
    }
   },
   "outputs": [
    {
     "data": {
      "text/plain": [
       "['Om ', 'Mahesh ', 'Vaknalli']"
      ]
     },
     "execution_count": 86,
     "metadata": {},
     "output_type": "execute_result"
    }
   ],
   "source": [
    "first_name = [\"Om \"]\n",
    "last_name = [\"Vaknalli\"]\n",
    "full_name = first_name + last_name\n",
    "full_name.insert(1,\"Mahesh \")\n",
    "full_name"
   ]
  },
  {
   "cell_type": "markdown",
   "metadata": {},
   "source": [
    "### Problem 5\n",
    "\n",
    "Combine your first and last names using strings instead of lists like we did in problem 3. \n",
    "Notes:\n",
    "- Create the 2 strings in lower case and then use a built-in string method to capitalize the words (see [this link](https://docs.python.org/3/library/stdtypes.html#string-methods) to find the proper function to use)\n",
    "- Use string formatting to output your results"
   ]
  },
  {
   "cell_type": "code",
   "execution_count": 20,
   "metadata": {
    "ExecuteTime": {
     "end_time": "2019-10-28T03:43:23.616323Z",
     "start_time": "2019-10-28T03:43:23.613620Z"
    }
   },
   "outputs": [
    {
     "name": "stdout",
     "output_type": "stream",
     "text": [
      "Om Vaknalli\n"
     ]
    }
   ],
   "source": [
    "first_name = \"om\"\n",
    "last_name = \"vaknalli\"\n",
    "print(\"{} {}\".format(first_name.capitalize(), last_name.capitalize()))"
   ]
  },
  {
   "cell_type": "markdown",
   "metadata": {},
   "source": [
    "### Problem 6\n",
    "\n",
    "Replace `\"Brussels Sprouts\"` with your favorite food in the string `\"My favorite food is Brussels Sprouts\"`.\n",
    "\n",
    "Notes:\n",
    "- Use the `replace` commond string method"
   ]
  },
  {
   "cell_type": "code",
   "execution_count": 29,
   "metadata": {
    "ExecuteTime": {
     "end_time": "2019-10-28T03:44:02.152719Z",
     "start_time": "2019-10-28T03:44:02.150500Z"
    }
   },
   "outputs": [
    {
     "name": "stdout",
     "output_type": "stream",
     "text": [
      "My favourite food is Chicken Burger\n"
     ]
    }
   ],
   "source": [
    "original_string = \"My favourite food is Brussels Sprouts\"\n",
    "print(original_string.replace(\"Brussels Sprouts\",\"Chicken Burger\"))"
   ]
  },
  {
   "cell_type": "markdown",
   "metadata": {},
   "source": [
    "### Problem 7:\n",
    "\n",
    "Create a `range` that goes from `500` to `5000` by steps of `250`. Check if `7550` is in our range. \n",
    "\n",
    "Notes\n",
    "- Convert your range to a list and print it to see all elements of your range "
   ]
  },
  {
   "cell_type": "code",
   "execution_count": 53,
   "metadata": {
    "ExecuteTime": {
     "end_time": "2019-10-28T03:44:30.493660Z",
     "start_time": "2019-10-28T03:44:30.491517Z"
    }
   },
   "outputs": [
    {
     "name": "stdout",
     "output_type": "stream",
     "text": [
      "[500, 750, 1000, 1250, 1500, 1750, 2000, 2250, 2500, 2750, 3000, 3250, 3500, 3750, 4000, 4250, 4500, 4750]\n"
     ]
    },
    {
     "data": {
      "text/plain": [
       "False"
      ]
     },
     "execution_count": 53,
     "metadata": {},
     "output_type": "execute_result"
    }
   ],
   "source": [
    "r = range(500,5000,250)\n",
    "print(list(r))\n",
    "7550 in r"
   ]
  },
  {
   "cell_type": "markdown",
   "metadata": {},
   "source": [
    "### Problem 8\n",
    "\n",
    "Create a dictionary that contain key-value pairs corresponding to your city of birth, country of birth and current city. Add an element which contains your current country."
   ]
  },
  {
   "cell_type": "code",
   "execution_count": 96,
   "metadata": {
    "ExecuteTime": {
     "end_time": "2019-10-28T03:44:57.431731Z",
     "start_time": "2019-10-28T03:44:57.429545Z"
    }
   },
   "outputs": [
    {
     "name": "stdout",
     "output_type": "stream",
     "text": [
      "{'City of birth': 'Mumbai', 'Country of birth': 'India', 'Current city': 'Bhopal'}\n",
      "{'City of birth': 'Mumbai', 'Country of birth': 'India', 'Current city': 'Bhopal', 'Current country': 'India'}\n"
     ]
    }
   ],
   "source": [
    "my_data = {\"City of birth\" : \"Mumbai\", \"Country of birth\" : \"India\", \"Current city\" : \"Bhopal\"}\n",
    "print(my_data)\n",
    "my_data[\"Current country\"] = \"India\"\n",
    "print(my_data)"
   ]
  }
 ],
 "metadata": {
  "kernelspec": {
   "display_name": "Python 3",
   "language": "python",
   "name": "python3"
  },
  "language_info": {
   "codemirror_mode": {
    "name": "ipython",
    "version": 3
   },
   "file_extension": ".py",
   "mimetype": "text/x-python",
   "name": "python",
   "nbconvert_exporter": "python",
   "pygments_lexer": "ipython3",
   "version": "3.7.6"
  }
 },
 "nbformat": 4,
 "nbformat_minor": 2
}
