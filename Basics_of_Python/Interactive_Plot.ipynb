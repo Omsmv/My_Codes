{
 "cells": [
  {
   "cell_type": "code",
   "execution_count": 1,
   "id": "528128f6",
   "metadata": {},
   "outputs": [],
   "source": [
    "import numpy as np\n",
    "import matplotlib.pyplot as plt\n",
    "from mpl_toolkits import mplot3d\n",
    "from matplotlib import cm"
   ]
  },
  {
   "cell_type": "markdown",
   "id": "17d67cc8",
   "metadata": {},
   "source": [
    "## Constants:"
   ]
  },
  {
   "cell_type": "code",
   "execution_count": 2,
   "id": "b0b37197",
   "metadata": {},
   "outputs": [],
   "source": [
    "F_0 = 1379\n",
    "x = 100"
   ]
  },
  {
   "cell_type": "markdown",
   "id": "491a8fc4",
   "metadata": {},
   "source": [
    "## Function:"
   ]
  },
  {
   "cell_type": "code",
   "execution_count": 3,
   "id": "102793ec",
   "metadata": {},
   "outputs": [],
   "source": [
    "def plot_interact1(N):   #For plotting at a particular time\n",
    "    \n",
    "    # Intials:\n",
    "    sa = np.linspace(10**-9,10**-8,10)\n",
    "    F1 = F_0*np.exp(-1*N*sa*x)\n",
    "    \n",
    "    #Plots:\n",
    "    fig = plt.figure(figsize = [8,8])\n",
    "    plt.plot(sa, F1)\n",
    "    plt.xlabel('sigma absolute', fontsize = 16)\n",
    "    plt.ylabel('F1', fontsize = 16)\n",
    "    #plt.set_title('For t = '+str(t))\n",
    "    \n",
    "    #ax.view_init(elev = E, azim = A) #For chaning view angle un-comment"
   ]
  },
  {
   "cell_type": "code",
   "execution_count": 4,
   "id": "5579a9dd",
   "metadata": {},
   "outputs": [],
   "source": [
    "def plot_interact2(sigma_absolute):   #For plotting at a particular time\n",
    "    \n",
    "    # Intials:\n",
    "    N = np.linspace(10**6,10**7,10)\n",
    "    F1 = F_0*np.exp(-1*N*sigma_absolute*(10**-10)*x)\n",
    "    \n",
    "    #Plots:\n",
    "    fig = plt.figure(figsize = [8,8])\n",
    "    plt.plot(N, F1)\n",
    "    plt.xlabel('N', fontsize = 16)\n",
    "    plt.ylabel('F1', fontsize = 16)\n",
    "    #plt.set_title('For t = '+str(t))\n",
    "    \n",
    "    #ax.view_init(elev = E, azim = A) #For chaning view angle un-comment"
   ]
  },
  {
   "cell_type": "markdown",
   "id": "1d1cf9b0",
   "metadata": {},
   "source": [
    "## Interactive plot:"
   ]
  },
  {
   "cell_type": "code",
   "execution_count": 5,
   "id": "152997ad",
   "metadata": {},
   "outputs": [],
   "source": [
    "from ipywidgets import interact, widgets"
   ]
  },
  {
   "cell_type": "code",
   "execution_count": 6,
   "id": "92674f30",
   "metadata": {},
   "outputs": [
    {
     "data": {
      "application/vnd.jupyter.widget-view+json": {
       "model_id": "e193df44d0464312aaa283330ccb1367",
       "version_major": 2,
       "version_minor": 0
      },
      "text/plain": [
       "interactive(children=(FloatSlider(value=1000000.0, description='N', max=10000000.0, min=1000000.0, step=100.0)…"
      ]
     },
     "metadata": {},
     "output_type": "display_data"
    },
    {
     "data": {
      "text/plain": [
       "<function __main__.plot_interact1(N)>"
      ]
     },
     "execution_count": 6,
     "metadata": {},
     "output_type": "execute_result"
    }
   ],
   "source": [
    "interact(plot_interact1, N = widgets.FloatSlider(min = 10**6, max = 10**7, step = 100, value = 3))"
   ]
  },
  {
   "cell_type": "code",
   "execution_count": 7,
   "id": "0454105e",
   "metadata": {},
   "outputs": [
    {
     "data": {
      "application/vnd.jupyter.widget-view+json": {
       "model_id": "85748254c6af49979be53f9a37ea96f7",
       "version_major": 2,
       "version_minor": 0
      },
      "text/plain": [
       "interactive(children=(FloatSlider(value=3.0, description='sigma_absolute', max=10.0, min=1.0), Output()), _dom…"
      ]
     },
     "metadata": {},
     "output_type": "display_data"
    },
    {
     "data": {
      "text/plain": [
       "<function __main__.plot_interact2(sigma_absolute)>"
      ]
     },
     "execution_count": 7,
     "metadata": {},
     "output_type": "execute_result"
    }
   ],
   "source": [
    "interact(plot_interact2,sigma_absolute = widgets.FloatSlider(min = 10**0, max = 10**1, step = .1, value = 3))"
   ]
  },
  {
   "cell_type": "code",
   "execution_count": null,
   "id": "48bf8c20",
   "metadata": {},
   "outputs": [],
   "source": []
  }
 ],
 "metadata": {
  "kernelspec": {
   "display_name": "Python 3",
   "language": "python",
   "name": "python3"
  },
  "language_info": {
   "codemirror_mode": {
    "name": "ipython",
    "version": 3
   },
   "file_extension": ".py",
   "mimetype": "text/x-python",
   "name": "python",
   "nbconvert_exporter": "python",
   "pygments_lexer": "ipython3",
   "version": "3.7.11"
  }
 },
 "nbformat": 4,
 "nbformat_minor": 5
}
