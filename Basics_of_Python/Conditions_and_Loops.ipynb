{
 "cells": [
  {
   "cell_type": "markdown",
   "metadata": {},
   "source": [
    "### Problem 1:\n",
    "\n",
    "Write a program to check if a value is positive, zero, or negative. \n",
    "\n",
    "- The program should print the result (i.e. \"Value is positive\")\n",
    "- Check your program works by creating a positive, zero, and negative variable and ensure the program outputs the correct response every time\n",
    "- Use if statements"
   ]
  },
  {
   "cell_type": "code",
   "execution_count": 11,
   "metadata": {
    "ExecuteTime": {
     "end_time": "2019-10-28T01:49:40.555651Z",
     "start_time": "2019-10-28T01:49:40.550927Z"
    }
   },
   "outputs": [
    {
     "name": "stdout",
     "output_type": "stream",
     "text": [
      "a = 7 is positive.\n",
      "b is equal to zero.\n",
      "c = -12 is negative.\n"
     ]
    }
   ],
   "source": [
    "a = 7\n",
    "if a > 0:\n",
    "    print(\"a = {} is positive.\".format(a))\n",
    "elif a < 0:\n",
    "    print(\"a = {} is negative.\".format(a))\n",
    "else:\n",
    "    print(\"a is equal to zero.\")\n",
    "b = 0\n",
    "if b > 0:\n",
    "    print(\"b = {} is positive.\".format(b))\n",
    "elif b < 0:\n",
    "    print(\"b = {} is negative.\".format(b))\n",
    "else:\n",
    "    print(\"b is equal to zero.\")\n",
    "c = -12\n",
    "if c > 0:\n",
    "    print(\"c = {} is positive.\".format(c))\n",
    "elif c < 0:\n",
    "    print(\"c = {} is negative.\".format(c))\n",
    "else:\n",
    "    print(\"c is equal to zero.\")"
   ]
  },
  {
   "cell_type": "markdown",
   "metadata": {},
   "source": [
    "### Problem 2:\n",
    "\n",
    "Write a program to check if a year is a leap year (see below for the method to determine if a year is a leap year):\n",
    "\n",
    "1. If the year is evenly divisible by 4, go to step 2. Otherwise, go to step 5.\n",
    "2. If the year is evenly divisible by 100, go to step 3. Otherwise, go to step 4.\n",
    "3. If the year is evenly divisible by 400, go to step 4. Otherwise, go to step 5.\n",
    "4. The year is a leap year (it has 366 days).\n",
    "5. The year is not a leap year (it has 365 days).\n",
    "\n",
    "Notes:\n",
    "1. Use nested if-else statements in your answer \n",
    "2. Test your program using the year 2018"
   ]
  },
  {
   "cell_type": "code",
   "execution_count": 19,
   "metadata": {},
   "outputs": [
    {
     "name": "stdout",
     "output_type": "stream",
     "text": [
      "The year = 2018 is not a leap year (it has 365 days).\n"
     ]
    }
   ],
   "source": [
    "year = 2018\n",
    "if year % 4 == 0:\n",
    "    if year % 100 == 0:\n",
    "        if year % 400 == 0:\n",
    "            print(\"The year = {} is a leap year (it has 366 days).\".format(year))\n",
    "        else:\n",
    "            print(\"The year = {} is not a leap year (it has 365 days).\".format(year))\n",
    "    else:\n",
    "        print(\"The year = {} is a leap year (it has 366 days).\".format(year))\n",
    "else:\n",
    "    print(\"The year = {} is not a leap year (it has 365 days).\".format(year))"
   ]
  },
  {
   "cell_type": "markdown",
   "metadata": {},
   "source": [
    "### Problem 3\n",
    "\n",
    "Write a program to calculate the maximum value of a list: `[3, 36, 154, 2, 145]` \n",
    "\n",
    "- You should used a `for` loop in your answer\n",
    "- You should use an `if` statement in your answer\n",
    "- Do not use any built-in Python functions\n",
    "- Print the maximum value of the list at the end of your program"
   ]
  },
  {
   "cell_type": "code",
   "execution_count": 39,
   "metadata": {
    "ExecuteTime": {
     "end_time": "2019-10-28T03:49:20.300486Z",
     "start_time": "2019-10-28T03:49:20.298753Z"
    }
   },
   "outputs": [
    {
     "name": "stdout",
     "output_type": "stream",
     "text": [
      "The maximum value of the list is 154\n"
     ]
    }
   ],
   "source": [
    "my_list = [3, 36, 154, 2, 145]\n",
    "maxi = 0\n",
    "for num in my_list:\n",
    "    if num > maxi:\n",
    "        maxi = num\n",
    "print(\"The maximum value of the list is {}\".format(maxi))"
   ]
  }
 ],
 "metadata": {
  "kernelspec": {
   "display_name": "Python 3",
   "language": "python",
   "name": "python3"
  },
  "language_info": {
   "codemirror_mode": {
    "name": "ipython",
    "version": 3
   },
   "file_extension": ".py",
   "mimetype": "text/x-python",
   "name": "python",
   "nbconvert_exporter": "python",
   "pygments_lexer": "ipython3",
   "version": "3.7.6"
  }
 },
 "nbformat": 4,
 "nbformat_minor": 2
}
