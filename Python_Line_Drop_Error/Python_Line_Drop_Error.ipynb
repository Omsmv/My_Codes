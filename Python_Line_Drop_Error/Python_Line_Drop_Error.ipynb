{
  "cells": [
    {
      "cell_type": "markdown",
      "metadata": {
        "id": "t7x-DEVlibey"
      },
      "source": [
        "# EES - 336: RS_and_GIS_Graded_Assignment_1\n",
        "\n",
        "\n",
        "### Name: Om Vaknalli\n",
        "### Roll No. 18376\n",
        "### Date: 01/02/21\n",
        "\n",
        "### Assignment:-\n",
        "### Write a code to create a checkerboard (or chessboard). Also, introduce the line drop error vertically and diagonally in two separate images at a constant interval of 15 columns."
      ]
    },
    {
      "cell_type": "code",
      "execution_count": null,
      "metadata": {
        "id": "VuKSFScHibe7"
      },
      "outputs": [],
      "source": [
        "# Importing the required libraries\n",
        "\n",
        "import numpy as np\n",
        "import sys\n",
        "import matplotlib.pyplot as plt"
      ]
    },
    {
      "cell_type": "code",
      "execution_count": null,
      "metadata": {
        "id": "Eo67fNlIibe_"
      },
      "outputs": [],
      "source": [
        "# Building an empty integer type dataset\n",
        "\n",
        "Image = np.zeros(shape = (80,80))\n",
        "Image = Image.astype(int)"
      ]
    },
    {
      "cell_type": "code",
      "execution_count": null,
      "metadata": {
        "id": "wYQRQhNxibe_"
      },
      "outputs": [],
      "source": [
        "# Building the checkerboard pattern image\n",
        "\n",
        "Image = Image.reshape((80,80)).astype('uint8')\n",
        "\n",
        "for i in range(len(Image)):\n",
        "    for j in range(int(len(Image)/2)):\n",
        "        if i%2 == 0:\n",
        "            Image[i][2*j] = 255\n",
        "        else:\n",
        "            Image[i][(2*j)+1] = 255\n",
        ""
      ]
    },
    {
      "cell_type": "code",
      "execution_count": null,
      "metadata": {
        "id": "t01AkMEbibfA",
        "outputId": "589ab815-b75d-4a7c-ea88-4a7689599771"
      },
      "outputs": [
        {
          "data": {
            "image/png": "[encoded data removed]",
            "text/plain": [
              "<Figure size 432x288 with 1 Axes>"
            ]
          },
          "metadata": {
            "needs_background": "light"
          },
          "output_type": "display_data"
        }
      ],
      "source": [
        "#Plotting the image\n",
        "\n",
        "plt.imshow(Image, cmap = 'gray')\n",
        "plt.show()"
      ]
    },
    {
      "cell_type": "code",
      "execution_count": null,
      "metadata": {
        "id": "mYEPDgquibfC",
        "outputId": "9db54ca8-2977-48d6-9e1b-badbde9fb7ad"
      },
      "outputs": [
        {
          "data": {
            "image/png": "[encoded data removed]",
            "text/plain": [
              "<Figure size 432x288 with 1 Axes>"
            ]
          },
          "metadata": {
            "needs_background": "light"
          },
          "output_type": "display_data"
        }
      ],
      "source": [
        "# Introducing vertical line drop error with periodicity of 15 units\n",
        "\n",
        "Image_vert = Image.copy()\n",
        "for i in range(len(Image_vert)):\n",
        "    for j in range(int((len(Image_vert)/15) + 1)):\n",
        "        Image_vert[i][15*j] = 0\n",
        "\n",
        "plt.imshow(Image_vert, cmap = 'gray')\n",
        "plt.show()"
      ]
    },
    {
      "cell_type": "code",
      "execution_count": null,
      "metadata": {
        "id": "TeeDCbDIibfD",
        "outputId": "ea6eb1ca-78a1-4c2e-d618-adfd354b3e45"
      },
      "outputs": [
        {
          "data": {
            "image/png": "[encoded data removed]",
            "text/plain": [
              "<Figure size 432x288 with 1 Axes>"
            ]
          },
          "metadata": {
            "needs_background": "light"
          },
          "output_type": "display_data"
        }
      ],
      "source": [
        "# Introducing diagonal line drop error with periodicity of 15 units\n",
        "\n",
        "Image_diag = Image.copy()\n",
        "\n",
        "for i in range(int(len(Image_diag))):\n",
        "    for j in range(int(len(Image_diag)/15 - int((i - len(Image_diag)%15)/15))):\n",
        "\n",
        "        Image_diag[i][(15*j) + i] = 0\n",
        "\n",
        "        if i < len(Image_diag)%15 :\n",
        "            Image_diag[i][15*(j + 1) + i] = 0\n",
        "\n",
        "\n",
        "for j in range(int(len(Image_diag))):\n",
        "    for i in range(int(len(Image_diag)/15 - int((j - len(Image_diag)%15)/15))):\n",
        "\n",
        "        Image_diag[(15*i) + j][j] = 0\n",
        "\n",
        "        if j < len(Image_diag)%15 :\n",
        "            Image_diag[15*(i + 1) + j][j] = 0\n",
        "\n",
        "\n",
        "plt.imshow(Image_diag, cmap = 'gray')\n",
        "plt.show()\n",
        "\n",
        "#Note: The diagonal line drops are only noticeable at intervals of 30 units because within the interval we have chosen(15), every alternate line is already black.\n",
        "      #For Example, the line representing i = j initially consisted of white pixels, but they were converted to black after line drop error.\n",
        "      #But the lines i = j +- 15 already consisted of black pixels, hence the line drop error wasn't noticeable in them.\n",
        "      #In general, for the lines i = j +- 15*m, the diagonal line drop error is noticeable for all even 'm' and not noticeable for odd 'm' on the given checkerboard."
      ]
    },
    {
      "cell_type": "code",
      "execution_count": null,
      "metadata": {
        "id": "Q52FcUx7ibfG"
      },
      "outputs": [],
      "source": []
    }
  ],
  "metadata": {
    "kernelspec": {
      "display_name": "Python 3",
      "language": "python",
      "name": "python3"
    },
    "language_info": {
      "codemirror_mode": {
        "name": "ipython",
        "version": 3
      },
      "file_extension": ".py",
      "mimetype": "text/x-python",
      "name": "python",
      "nbconvert_exporter": "python",
      "pygments_lexer": "ipython3",
      "version": "3.7.6"
    },
    "colab": {
      "provenance": []
    }
  },
  "nbformat": 4,
  "nbformat_minor": 0
}